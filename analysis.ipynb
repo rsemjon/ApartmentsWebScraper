{
 "cells": [
  {
   "cell_type": "code",
   "execution_count": 65,
   "metadata": {},
   "outputs": [],
   "source": [
    "import pandas as pd\n",
    "df = pd.read_csv(\"./data/all_websites.csv\")\n",
    "columns_to_check = [\"title\", \"adr\", \"total_area\"]\n",
    "duplicates = df.groupby(columns_to_check).filter(lambda x :x['price'].nunique()>1).sort_values(\"title\")\n",
    "duplicates.to_csv(\"./data/duplicate_apartments.csv\")"
   ]
  },
  {
   "cell_type": "code",
   "execution_count": 66,
   "metadata": {},
   "outputs": [
    {
     "name": "stdout",
     "output_type": "stream",
     "text": [
      "Average price for an apartment: 256443.6\n",
      "Average price for an m2: 3829.47\n"
     ]
    }
   ],
   "source": [
    "import pandas as pd\n",
    "\n",
    "df=pd.read_csv(\"./data/data-nehnutelnostisk.csv\")\n",
    "average_price = df[\"price\"].mean()\n",
    "average_m2_price = df[\"price_for_m2\"].mean()\n",
    "number_of_offers_per_location = df[\"adr\"].value_counts()\n",
    "average_price_per_location = df.groupby(\"adr\")[\"price\"].mean()\n",
    "\n",
    "print(f\"Average price for an apartment: {round(average_price, 2)}\")\n",
    "print(f\"Average price for an m2: {round(average_m2_price, 2)}\")\n",
    "number_of_offers_per_location.to_csv(\"./data/offers_per_location.csv\")\n",
    "average_price_per_location.to_csv(\"./data/avg_price_per_location.csv\")\n"
   ]
  }
 ],
 "metadata": {
  "kernelspec": {
   "display_name": "venv",
   "language": "python",
   "name": "python3"
  },
  "language_info": {
   "codemirror_mode": {
    "name": "ipython",
    "version": 3
   },
   "file_extension": ".py",
   "mimetype": "text/x-python",
   "name": "python",
   "nbconvert_exporter": "python",
   "pygments_lexer": "ipython3",
   "version": "3.10.12"
  }
 },
 "nbformat": 4,
 "nbformat_minor": 2
}
