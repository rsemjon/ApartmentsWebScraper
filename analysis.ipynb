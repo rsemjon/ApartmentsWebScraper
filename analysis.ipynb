{
 "cells": [
  {
   "cell_type": "code",
   "execution_count": 20,
   "metadata": {},
   "outputs": [],
   "source": [
    "import pandas as pd\n",
    "\n",
    "df = pd.read_csv(\"./data/work_data/data.csv\")\n",
    "\n",
    "columns_to_check = [\"name\", \"adr\", \"total_area\"]\n",
    "duplicates = df[df.duplicated(columns_to_check, keep=False)]\n",
    "#filtered_duplicates = duplicates[~duplicates.duplicated(\"price\", keep=False)]\n",
    "sorted_duplicates = duplicates.sort_values(by=\"name\")\n",
    "\n",
    "sorted_duplicates.to_csv(\"./data/work_data/duplicates.csv\", index=False)\n",
    "\n"
   ]
  }
 ],
 "metadata": {
  "kernelspec": {
   "display_name": "venv",
   "language": "python",
   "name": "python3"
  },
  "language_info": {
   "codemirror_mode": {
    "name": "ipython",
    "version": 3
   },
   "file_extension": ".py",
   "mimetype": "text/x-python",
   "name": "python",
   "nbconvert_exporter": "python",
   "pygments_lexer": "ipython3",
   "version": "3.10.12"
  }
 },
 "nbformat": 4,
 "nbformat_minor": 2
}
