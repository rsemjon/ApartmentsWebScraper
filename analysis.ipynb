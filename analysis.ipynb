{
 "cells": [
  {
   "cell_type": "code",
   "execution_count": 28,
   "metadata": {},
   "outputs": [],
   "source": [
    "import pandas as pd\n",
    "df = pd.read_csv(\"./data/work_data/data.csv\")\n",
    "columns_to_check = [\"name\", \"adr\", \"total_area\"]\n",
    "duplicates = df.groupby(columns_to_check).filter(lambda x :x['price'].nunique()>1).sort_values(\"name\")\n",
    "duplicates.to_csv(\"./data/work_data/result.csv\")"
   ]
  },
  {
   "cell_type": "code",
   "execution_count": 9,
   "metadata": {},
   "outputs": [
    {
     "name": "stdout",
     "output_type": "stream",
     "text": [
      "Average price is: 5.5\n",
      "adr\n",
      " aaa    4\n",
      " bbb    2\n",
      " ccc    2\n",
      "Name: count, dtype: int64\n",
      "adr\n",
      " aaa    5.5\n",
      " bbb    6.0\n",
      " ccc    5.0\n",
      "Name: price, dtype: float64\n"
     ]
    }
   ],
   "source": [
    "import pandas as pd\n",
    "\n",
    "raw_df=pd.read_csv(\"./data/work_data/test.csv\")\n",
    "average_price = raw_df[\"price\"].mean()\n",
    "df2 = raw_df[\"adr\"].value_counts()\n",
    "df3 = raw_df.groupby(\"adr\")[\"price\"].mean()\n",
    "\n",
    "print(f\"Average price is: {average_price}\")\n",
    "print(df2)\n",
    "print(df3)"
   ]
  }
 ],
 "metadata": {
  "kernelspec": {
   "display_name": "venv",
   "language": "python",
   "name": "python3"
  },
  "language_info": {
   "codemirror_mode": {
    "name": "ipython",
    "version": 3
   },
   "file_extension": ".py",
   "mimetype": "text/x-python",
   "name": "python",
   "nbconvert_exporter": "python",
   "pygments_lexer": "ipython3",
   "version": "3.10.12"
  }
 },
 "nbformat": 4,
 "nbformat_minor": 2
}
