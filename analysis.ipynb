{
 "cells": [
  {
   "cell_type": "code",
   "execution_count": 1,
   "metadata": {},
   "outputs": [
    {
     "name": "stdout",
     "output_type": "stream",
     "text": [
      "                                                    link  \\\n",
      "0      https://www.nehnutelnosti.sk/5337533/najatrakt...   \n",
      "1      https://www.nehnutelnosti.sk/5333337/zariadeny...   \n",
      "2      https://www.nehnutelnosti.sk/5320465/moderne-z...   \n",
      "3      https://www.nehnutelnosti.sk/5294136/klimatizo...   \n",
      "4      https://www.nehnutelnosti.sk/5328484/garsonka-...   \n",
      "...                                                  ...   \n",
      "11909  https://www.topreality.sk/amexa-real-ponuka-na...   \n",
      "11910  https://www.topreality.sk/2-garsonka-na-predaj...   \n",
      "11911  https://www.topreality.sk/amexa-real-ponuka-na...   \n",
      "11912  https://www.topreality.sk/luxusny-byt-na-preda...   \n",
      "11913  https://www.topreality.sk/exkluzivny-byt-na-pr...   \n",
      "\n",
      "                                                    name  \\\n",
      "0      NAJATRAKTÍVNEJŠIA CENA ZNÍŽENÁ o 11 TISÍC. 2 i...   \n",
      "1      Zariadený 1 izbový byt blízko parku Ostredky v...   \n",
      "2      Moderne zariadený 2 izbový byt navrhnutý dizaj...   \n",
      "3      Klimatizovaný 3 izbový byt s krásnym výhľadom ...   \n",
      "4      Garsónka s balkónom v tehlovom bytovom dome bl...   \n",
      "...                                                  ...   \n",
      "11909  AMEXA REAL » ponúka na predaj 2izb apartmán - ...   \n",
      "11910  2 Garsónka na predaj, Loggia, DOBRÝ VCHOD, Sta...   \n",
      "11911  AMEXA REAL » ponúka na predaj 2izb apartmán - ...   \n",
      "11912               Luxusný byt na predaj vo vile Slavín   \n",
      "11913            Exkluzívny byt na predaj vo vile Slavín   \n",
      "\n",
      "                               adr      price  price_for_m2  total_area  \n",
      "0                tomášikovaružinov   218000.0      2961.960       73.60  \n",
      "1           vrakunskácesta6ružinov   124900.0      3965.080       31.50  \n",
      "2             wilsonova1starémesto   249900.0      4900.000       51.00  \n",
      "3              matejkovakarlovaves   181990.0      2882.780       63.13  \n",
      "4      námestiebielykríž6novémesto    74900.0      4405.880       17.00  \n",
      "...                            ...        ...           ...         ...  \n",
      "11909            vlčiehrdloružinov    76847.0      1715.332       45.00  \n",
      "11910            stavbárskavrakuňa    58000.0      1526.322       38.00  \n",
      "11911            vlčiehrdloružinov    76847.0      1715.332       45.00  \n",
      "11912     naštyridsiatkustarémesto  2019850.0     17874.782      113.00  \n",
      "11913     naštyridsiatkustarémesto  2009700.0     22580.902       89.00  \n",
      "\n",
      "[11064 rows x 6 columns]\n"
     ]
    }
   ],
   "source": [
    "import pandas as pd\n",
    "\n",
    "df = pd.read_csv(\"./data/work_data/data:17_dec_2023-17:00-tests.csv\")\n",
    "#df = pd.read_csv(\"./data/work_data/tests.csv\")\n",
    "\n",
    "columns_to_check = [\"name\", \"adr\"]\n",
    "duplicates = df[df.duplicated(columns_to_check, keep=False)]\n",
    "filtered_duplicates = duplicates[~duplicates.duplicated(\"price\", keep=False)]\n",
    "sorted_duplicates = filtered_duplicates.sort_values(by=\"name\")\n",
    "\n",
    "sorted_duplicates.to_csv(\"./data/work_data/duplicates.csv\", index=False)\n",
    "print(duplicates)\n",
    "\n"
   ]
  }
 ],
 "metadata": {
  "kernelspec": {
   "display_name": "venv",
   "language": "python",
   "name": "python3"
  },
  "language_info": {
   "codemirror_mode": {
    "name": "ipython",
    "version": 3
   },
   "file_extension": ".py",
   "mimetype": "text/x-python",
   "name": "python",
   "nbconvert_exporter": "python",
   "pygments_lexer": "ipython3",
   "version": "3.10.12"
  }
 },
 "nbformat": 4,
 "nbformat_minor": 2
}
