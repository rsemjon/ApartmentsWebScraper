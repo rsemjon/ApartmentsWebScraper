{
 "cells": [
  {
   "cell_type": "code",
   "execution_count": 16,
   "metadata": {},
   "outputs": [
    {
     "name": "stdout",
     "output_type": "stream",
     "text": [
      "   link    name   adr  price  price_for_m2  total_area\n",
      "0  link    four   adr    455           455          35\n",
      "4  link    four   adr    475           475          35\n",
      "5  link    four   adr    455           475          35\n",
      "1  link   three   adr     45            45          45\n",
      "2  link   three   adr     45            45          45\n",
      "3  link   three   adr    455           455          45\n"
     ]
    }
   ],
   "source": [
    "import pandas as pd\n",
    "\n",
    "df = pd.read_csv(\"./data/work_data/tests.csv\")\n",
    "\n",
    "columns_to_check = [\"name\", \"adr\", \"total_area\"]\n",
    "duplicates = df[df.duplicated(columns_to_check, keep=False)].sort_values(by=\"name\")\n",
    "\n",
    "print(duplicates)\n",
    "#print(duplicates)\n",
    "\n",
    "\n",
    "\n"
   ]
  },
  {
   "cell_type": "code",
   "execution_count": 24,
   "metadata": {},
   "outputs": [
    {
     "name": "stdout",
     "output_type": "stream",
     "text": [
      "   link    name   adr  price  price_for_m2  total_area\n",
      "0  link    four   adr    455           455          35\n",
      "4  link    four   adr     45           475          35\n",
      "5  link    four   adr    455           475          35\n",
      "1  link   three   adr     45            45          45\n",
      "2  link   three   adr     45            45          45\n",
      "3  link   three   adr    455           455          45\n"
     ]
    }
   ],
   "source": [
    "import pandas as pd\n",
    "df = pd.read_csv(\"./data/work_data/data.csv\")\n",
    "columns_to_check = [\"name\", \"adr\", \"total_area\"]\n",
    "duplicates = df.groupby(columns_to_check).filter(lambda x :x['price'].nunique()>1).sort_values(\"name\")\n",
    "duplicates.to_csv(\"./data/work_data/result.csv\")\n",
    "print(duplicates)\n",
    "\n",
    "\n",
    "\n"
   ]
  }
 ],
 "metadata": {
  "kernelspec": {
   "display_name": "venv",
   "language": "python",
   "name": "python3"
  },
  "language_info": {
   "codemirror_mode": {
    "name": "ipython",
    "version": 3
   },
   "file_extension": ".py",
   "mimetype": "text/x-python",
   "name": "python",
   "nbconvert_exporter": "python",
   "pygments_lexer": "ipython3",
   "version": "3.10.12"
  }
 },
 "nbformat": 4,
 "nbformat_minor": 2
}
